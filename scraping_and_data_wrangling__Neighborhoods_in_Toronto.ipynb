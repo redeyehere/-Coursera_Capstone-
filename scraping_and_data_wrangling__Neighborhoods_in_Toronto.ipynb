{
  "nbformat": 4,
  "nbformat_minor": 0,
  "metadata": {
    "colab": {
      "name": "Segmenting and Clustering Neighborhoods in Toronto.ipynb",
      "provenance": [],
      "collapsed_sections": [],
      "include_colab_link": true
    },
    "kernelspec": {
      "name": "python3",
      "display_name": "Python 3"
    }
  },
  "cells": [
    {
      "cell_type": "markdown",
      "metadata": {
        "id": "view-in-github",
        "colab_type": "text"
      },
      "source": [
        "<a href=\"https://colab.research.google.com/github/ourekouch/Coursera_Capstone/blob/master/scraping_and_data_wrangling%3A_Neighborhoods_in_Toronto.ipynb\" target=\"_parent\"><img src=\"https://colab.research.google.com/assets/colab-badge.svg\" alt=\"Open In Colab\"/></a>"
      ]
    },
    {
      "cell_type": "markdown",
      "metadata": {
        "id": "2v76qNcuLNfW",
        "colab_type": "text"
      },
      "source": [
        "**The First Step is :** installing all importants packages "
      ]
    },
    {
      "cell_type": "code",
      "metadata": {
        "id": "FHfRkmyZKpF3",
        "colab_type": "code",
        "outputId": "f6146a7b-47ae-4cce-9c67-35bc763be679",
        "colab": {
          "base_uri": "https://localhost:8080/",
          "height": 199
        }
      },
      "source": [
        "!pip install beautifulsoup4\n",
        "!pip install lxml\n",
        "!pip install html5lib\n",
        "!pip install requests "
      ],
      "execution_count": 55,
      "outputs": [
        {
          "output_type": "stream",
          "text": [
            "Requirement already satisfied: beautifulsoup4 in /usr/local/lib/python3.6/dist-packages (4.6.3)\n",
            "Requirement already satisfied: lxml in /usr/local/lib/python3.6/dist-packages (4.2.6)\n",
            "Requirement already satisfied: html5lib in /usr/local/lib/python3.6/dist-packages (1.0.1)\n",
            "Requirement already satisfied: webencodings in /usr/local/lib/python3.6/dist-packages (from html5lib) (0.5.1)\n",
            "Requirement already satisfied: six>=1.9 in /usr/local/lib/python3.6/dist-packages (from html5lib) (1.12.0)\n",
            "Requirement already satisfied: requests in /usr/local/lib/python3.6/dist-packages (2.21.0)\n",
            "Requirement already satisfied: idna<2.9,>=2.5 in /usr/local/lib/python3.6/dist-packages (from requests) (2.8)\n",
            "Requirement already satisfied: urllib3<1.25,>=1.21.1 in /usr/local/lib/python3.6/dist-packages (from requests) (1.24.3)\n",
            "Requirement already satisfied: chardet<3.1.0,>=3.0.2 in /usr/local/lib/python3.6/dist-packages (from requests) (3.0.4)\n",
            "Requirement already satisfied: certifi>=2017.4.17 in /usr/local/lib/python3.6/dist-packages (from requests) (2019.6.16)\n"
          ],
          "name": "stdout"
        }
      ]
    },
    {
      "cell_type": "code",
      "metadata": {
        "id": "a7MLlhRdNn1W",
        "colab_type": "code",
        "outputId": "3b6d6008-2da4-4c6b-c926-1be622eefb76",
        "colab": {
          "base_uri": "https://localhost:8080/",
          "height": 35
        }
      },
      "source": [
        "#importing libraries\n",
        "from bs4 import BeautifulSoup\n",
        "import requests\n",
        "import pandas as pd\n",
        "source  = requests.get(\"https://en.wikipedia.org/wiki/List_of_postal_codes_of_Canada:_M\").text\n",
        "soup=BeautifulSoup(source,'lxml')\n",
        "\n",
        "\n",
        "#add an empty dataframe\n",
        "df = pd.DataFrame(columns=['PostalCode','Borough','Neighborhood'])\n",
        "\n",
        "#finding our data and scraping it using beautifulSoup library\n",
        "table=soup.find('table')\n",
        "body=table.find('tbody')\n",
        "for row in body.find_all('tr'):\n",
        "  List=[]\n",
        "  for x in row.find_all('td'):\n",
        "      List.append(x.text)\n",
        "  csv_writer.writerow(List)\n",
        "  list_df = pd.DataFrame(List)\n",
        "\n",
        "  #for each row we check if the row has values and borough different to not assigned then we add row to dataframe\n",
        "  if len(List)>0 :\n",
        "    df2 = pd.DataFrame({'PostalCode':[List[0]], 'Borough':[List[1]], 'Neighborhood':[List[2]]})  \n",
        "    if List[1] != \"Not assigned\"   :\n",
        "      df = df.append(df2,ignore_index=True)\n",
        "\n",
        "#Data wrangling and data cleaning : removing \"\\n\" , replacing Not assigned from neighborhood , group by postal code and Borough  \n",
        "df['Neighborhood']=df['Neighborhood'].astype(str).str.replace('\\n','')\n",
        "df['Neighborhood'].loc[(df['Neighborhood'] == 'Not assigned')] = df['Borough']\n",
        "df=df.groupby(['PostalCode', 'Borough'], as_index=False, sort=False).agg(','.join)\n",
        "\n",
        "\n",
        "\n",
        "#showing some data \n",
        "df.shape\n"
      ],
      "execution_count": 54,
      "outputs": [
        {
          "output_type": "execute_result",
          "data": {
            "text/plain": [
              "(103, 3)"
            ]
          },
          "metadata": {
            "tags": []
          },
          "execution_count": 54
        }
      ]
    }
  ]
}